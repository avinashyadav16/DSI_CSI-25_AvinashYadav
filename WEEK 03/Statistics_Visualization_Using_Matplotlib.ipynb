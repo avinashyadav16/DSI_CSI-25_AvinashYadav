{
 "cells": [
  {
   "cell_type": "markdown",
   "id": "73ef2d77",
   "metadata": {},
   "source": [
    "# **Importing Libraries:**"
   ]
  },
  {
   "cell_type": "code",
   "execution_count": 1,
   "id": "691fe7d4",
   "metadata": {
    "execution": {
     "iopub.execute_input": "2025-04-26T12:07:31.442370Z",
     "iopub.status.busy": "2025-04-26T12:07:31.442116Z",
     "iopub.status.idle": "2025-04-26T12:07:33.078163Z",
     "shell.execute_reply": "2025-04-26T12:07:33.077511Z"
    },
    "papermill": {
     "duration": 1.643104,
     "end_time": "2025-04-26T12:07:33.079661",
     "exception": false,
     "start_time": "2025-04-26T12:07:31.436557",
     "status": "completed"
    },
    "tags": []
   },
   "outputs": [],
   "source": [
    "import pandas as pd\n",
    "import numpy as np\n",
    "import matplotlib.pyplot as plt\n",
    "import seaborn as sns"
   ]
  },
  {
   "cell_type": "code",
   "execution_count": 2,
   "id": "5169ef55",
   "metadata": {
    "execution": {
     "iopub.execute_input": "2025-04-26T12:07:33.091669Z",
     "iopub.status.busy": "2025-04-26T12:07:33.091256Z",
     "iopub.status.idle": "2025-04-26T12:07:33.112972Z",
     "shell.execute_reply": "2025-04-26T12:07:33.112014Z"
    },
    "papermill": {
     "duration": 0.029138,
     "end_time": "2025-04-26T12:07:33.114399",
     "exception": false,
     "start_time": "2025-04-26T12:07:33.085261",
     "status": "completed"
    },
    "tags": []
   },
   "outputs": [],
   "source": [
    "data = pd.read_csv(\"./Titanic-Dataset.csv\")"
   ]
  },
  {
   "cell_type": "code",
   "execution_count": 3,
   "id": "93d5da21",
   "metadata": {
    "execution": {
     "iopub.execute_input": "2025-04-26T12:07:33.126052Z",
     "iopub.status.busy": "2025-04-26T12:07:33.125747Z",
     "iopub.status.idle": "2025-04-26T12:07:33.150973Z",
     "shell.execute_reply": "2025-04-26T12:07:33.150110Z"
    },
    "papermill": {
     "duration": 0.032376,
     "end_time": "2025-04-26T12:07:33.152227",
     "exception": false,
     "start_time": "2025-04-26T12:07:33.119851",
     "status": "completed"
    },
    "tags": []
   },
   "outputs": [
    {
     "data": {
      "text/html": [
       "<div>\n",
       "<style scoped>\n",
       "    .dataframe tbody tr th:only-of-type {\n",
       "        vertical-align: middle;\n",
       "    }\n",
       "\n",
       "    .dataframe tbody tr th {\n",
       "        vertical-align: top;\n",
       "    }\n",
       "\n",
       "    .dataframe thead th {\n",
       "        text-align: right;\n",
       "    }\n",
       "</style>\n",
       "<table border=\"1\" class=\"dataframe\">\n",
       "  <thead>\n",
       "    <tr style=\"text-align: right;\">\n",
       "      <th></th>\n",
       "      <th>PassengerId</th>\n",
       "      <th>Survived</th>\n",
       "      <th>Pclass</th>\n",
       "      <th>Name</th>\n",
       "      <th>Sex</th>\n",
       "      <th>Age</th>\n",
       "      <th>SibSp</th>\n",
       "      <th>Parch</th>\n",
       "      <th>Ticket</th>\n",
       "      <th>Fare</th>\n",
       "      <th>Cabin</th>\n",
       "      <th>Embarked</th>\n",
       "    </tr>\n",
       "  </thead>\n",
       "  <tbody>\n",
       "    <tr>\n",
       "      <th>0</th>\n",
       "      <td>1</td>\n",
       "      <td>0</td>\n",
       "      <td>3</td>\n",
       "      <td>Braund, Mr. Owen Harris</td>\n",
       "      <td>male</td>\n",
       "      <td>22.0</td>\n",
       "      <td>1</td>\n",
       "      <td>0</td>\n",
       "      <td>A/5 21171</td>\n",
       "      <td>7.2500</td>\n",
       "      <td>NaN</td>\n",
       "      <td>S</td>\n",
       "    </tr>\n",
       "    <tr>\n",
       "      <th>1</th>\n",
       "      <td>2</td>\n",
       "      <td>1</td>\n",
       "      <td>1</td>\n",
       "      <td>Cumings, Mrs. John Bradley (Florence Briggs Th...</td>\n",
       "      <td>female</td>\n",
       "      <td>38.0</td>\n",
       "      <td>1</td>\n",
       "      <td>0</td>\n",
       "      <td>PC 17599</td>\n",
       "      <td>71.2833</td>\n",
       "      <td>C85</td>\n",
       "      <td>C</td>\n",
       "    </tr>\n",
       "    <tr>\n",
       "      <th>2</th>\n",
       "      <td>3</td>\n",
       "      <td>1</td>\n",
       "      <td>3</td>\n",
       "      <td>Heikkinen, Miss. Laina</td>\n",
       "      <td>female</td>\n",
       "      <td>26.0</td>\n",
       "      <td>0</td>\n",
       "      <td>0</td>\n",
       "      <td>STON/O2. 3101282</td>\n",
       "      <td>7.9250</td>\n",
       "      <td>NaN</td>\n",
       "      <td>S</td>\n",
       "    </tr>\n",
       "    <tr>\n",
       "      <th>3</th>\n",
       "      <td>4</td>\n",
       "      <td>1</td>\n",
       "      <td>1</td>\n",
       "      <td>Futrelle, Mrs. Jacques Heath (Lily May Peel)</td>\n",
       "      <td>female</td>\n",
       "      <td>35.0</td>\n",
       "      <td>1</td>\n",
       "      <td>0</td>\n",
       "      <td>113803</td>\n",
       "      <td>53.1000</td>\n",
       "      <td>C123</td>\n",
       "      <td>S</td>\n",
       "    </tr>\n",
       "    <tr>\n",
       "      <th>4</th>\n",
       "      <td>5</td>\n",
       "      <td>0</td>\n",
       "      <td>3</td>\n",
       "      <td>Allen, Mr. William Henry</td>\n",
       "      <td>male</td>\n",
       "      <td>35.0</td>\n",
       "      <td>0</td>\n",
       "      <td>0</td>\n",
       "      <td>373450</td>\n",
       "      <td>8.0500</td>\n",
       "      <td>NaN</td>\n",
       "      <td>S</td>\n",
       "    </tr>\n",
       "  </tbody>\n",
       "</table>\n",
       "</div>"
      ],
      "text/plain": [
       "   PassengerId  Survived  Pclass  \\\n",
       "0            1         0       3   \n",
       "1            2         1       1   \n",
       "2            3         1       3   \n",
       "3            4         1       1   \n",
       "4            5         0       3   \n",
       "\n",
       "                                                Name     Sex   Age  SibSp  \\\n",
       "0                            Braund, Mr. Owen Harris    male  22.0      1   \n",
       "1  Cumings, Mrs. John Bradley (Florence Briggs Th...  female  38.0      1   \n",
       "2                             Heikkinen, Miss. Laina  female  26.0      0   \n",
       "3       Futrelle, Mrs. Jacques Heath (Lily May Peel)  female  35.0      1   \n",
       "4                           Allen, Mr. William Henry    male  35.0      0   \n",
       "\n",
       "   Parch            Ticket     Fare Cabin Embarked  \n",
       "0      0         A/5 21171   7.2500   NaN        S  \n",
       "1      0          PC 17599  71.2833   C85        C  \n",
       "2      0  STON/O2. 3101282   7.9250   NaN        S  \n",
       "3      0            113803  53.1000  C123        S  \n",
       "4      0            373450   8.0500   NaN        S  "
      ]
     },
     "execution_count": 3,
     "metadata": {},
     "output_type": "execute_result"
    }
   ],
   "source": [
    "data.head()"
   ]
  },
  {
   "cell_type": "markdown",
   "id": "5b862ea6",
   "metadata": {},
   "source": [
    "# **1. Frequency Distirbution Table - Univarient - Categorical data**"
   ]
  },
  {
   "cell_type": "code",
   "execution_count": 4,
   "id": "03abf08a",
   "metadata": {
    "execution": {
     "iopub.execute_input": "2025-04-26T12:07:33.164397Z",
     "iopub.status.busy": "2025-04-26T12:07:33.163727Z",
     "iopub.status.idle": "2025-04-26T12:07:33.173957Z",
     "shell.execute_reply": "2025-04-26T12:07:33.173124Z"
    },
    "papermill": {
     "duration": 0.017429,
     "end_time": "2025-04-26T12:07:33.175267",
     "exception": false,
     "start_time": "2025-04-26T12:07:33.157838",
     "status": "completed"
    },
    "tags": []
   },
   "outputs": [
    {
     "data": {
      "text/plain": [
       "Pclass\n",
       "3    491\n",
       "1    216\n",
       "2    184\n",
       "Name: count, dtype: int64"
      ]
     },
     "execution_count": 4,
     "metadata": {},
     "output_type": "execute_result"
    }
   ],
   "source": [
    "data[\"Pclass\"].value_counts()"
   ]
  },
  {
   "cell_type": "markdown",
   "id": "6eb56be8",
   "metadata": {},
   "source": [
    "# **Bar chart**"
   ]
  },
  {
   "cell_type": "code",
   "execution_count": 5,
   "id": "8859bfdd",
   "metadata": {
    "execution": {
     "iopub.execute_input": "2025-04-26T12:07:33.202916Z",
     "iopub.status.busy": "2025-04-26T12:07:33.202673Z",
     "iopub.status.idle": "2025-04-26T12:07:33.544702Z",
     "shell.execute_reply": "2025-04-26T12:07:33.543940Z"
    },
    "papermill": {
     "duration": 0.349466,
     "end_time": "2025-04-26T12:07:33.546170",
     "exception": false,
     "start_time": "2025-04-26T12:07:33.196704",
     "status": "completed"
    },
    "tags": []
   },
   "outputs": [
    {
     "data": {
      "text/plain": [
       "<Axes: xlabel='Pclass'>"
      ]
     },
     "execution_count": 5,
     "metadata": {},
     "output_type": "execute_result"
    },
    {
     "data": {
      "image/png": "[encoded data removed]",
      "text/plain": [
       "<Figure size 640x480 with 1 Axes>"
      ]
     },
     "metadata": {},
     "output_type": "display_data"
    }
   ],
   "source": [
    "data[\"Pclass\"].value_counts().plot(kind=\"bar\")"
   ]
  },
  {
   "cell_type": "markdown",
   "id": "d74ee89c",
   "metadata": {},
   "source": [
    "# **Pie Chart**"
   ]
  },
  {
   "cell_type": "code",
   "execution_count": 6,
   "id": "181dd40f",
   "metadata": {
    "execution": {
     "iopub.execute_input": "2025-04-26T12:07:33.559124Z",
     "iopub.status.busy": "2025-04-26T12:07:33.558351Z",
     "iopub.status.idle": "2025-04-26T12:07:33.655388Z",
     "shell.execute_reply": "2025-04-26T12:07:33.654766Z"
    },
    "papermill": {
     "duration": 0.105003,
     "end_time": "2025-04-26T12:07:33.656970",
     "exception": false,
     "start_time": "2025-04-26T12:07:33.551967",
     "status": "completed"
    },
    "tags": []
   },
   "outputs": [
    {
     "data": {
      "text/plain": [
       "<Axes: ylabel='count'>"
      ]
     },
     "execution_count": 6,
     "metadata": {},
     "output_type": "execute_result"
    },
    {
     "data": {
      "image/png": "[encoded data removed]",
      "text/plain": [
       "<Figure size 640x480 with 1 Axes>"
      ]
     },
     "metadata": {},
     "output_type": "display_data"
    }
   ],
   "source": [
    "data[\"Pclass\"].value_counts().plot(kind=\"pie\", autopct=\"%0.3f\")"
   ]
  },
  {
   "cell_type": "markdown",
   "id": "9e6074ba",
   "metadata": {},
   "source": [
    "# **Cumulative Frequency**"
   ]
  },
  {
   "cell_type": "code",
   "execution_count": 7,
   "id": "64fcfed5",
   "metadata": {
    "execution": {
     "iopub.execute_input": "2025-04-26T12:07:33.670214Z",
     "iopub.status.busy": "2025-04-26T12:07:33.669930Z",
     "iopub.status.idle": "2025-04-26T12:07:33.676918Z",
     "shell.execute_reply": "2025-04-26T12:07:33.676254Z"
    },
    "papermill": {
     "duration": 0.014947,
     "end_time": "2025-04-26T12:07:33.678159",
     "exception": false,
     "start_time": "2025-04-26T12:07:33.663212",
     "status": "completed"
    },
    "tags": []
   },
   "outputs": [
    {
     "data": {
      "text/plain": [
       "Pclass\n",
       "3    55.106622\n",
       "1    24.242424\n",
       "2    20.650954\n",
       "Name: count, dtype: float64"
      ]
     },
     "execution_count": 7,
     "metadata": {},
     "output_type": "execute_result"
    }
   ],
   "source": [
    "a = data[\"Pclass\"].value_counts()\n",
    "b = (a/a.sum())*100\n",
    "b\n"
   ]
  },
  {
   "cell_type": "code",
   "execution_count": 8,
   "id": "5b7c793c",
   "metadata": {
    "execution": {
     "iopub.execute_input": "2025-04-26T12:07:33.691030Z",
     "iopub.status.busy": "2025-04-26T12:07:33.690804Z",
     "iopub.status.idle": "2025-04-26T12:07:33.694976Z",
     "shell.execute_reply": "2025-04-26T12:07:33.694371Z"
    },
    "papermill": {
     "duration": 0.012068,
     "end_time": "2025-04-26T12:07:33.696244",
     "exception": false,
     "start_time": "2025-04-26T12:07:33.684176",
     "status": "completed"
    },
    "tags": []
   },
   "outputs": [],
   "source": [
    "cf = 0\n",
    "c = []\n",
    "\n",
    "for i in b:\n",
    "    cf = cf + i\n",
    "    c.append(cf)\n"
   ]
  },
  {
   "cell_type": "markdown",
   "id": "dabaf1d2",
   "metadata": {},
   "source": [
    "# **Categorical Data >  Univarient >  Line Plot**"
   ]
  },
  {
   "cell_type": "code",
   "execution_count": 10,
   "id": "a07721b0",
   "metadata": {
    "execution": {
     "iopub.execute_input": "2025-04-26T12:07:33.709746Z",
     "iopub.status.busy": "2025-04-26T12:07:33.709185Z",
     "iopub.status.idle": "2025-04-26T12:07:33.912018Z",
     "shell.execute_reply": "2025-04-26T12:07:33.910814Z"
    },
    "papermill": {
     "duration": 0.211367,
     "end_time": "2025-04-26T12:07:33.913732",
     "exception": false,
     "start_time": "2025-04-26T12:07:33.702365",
     "status": "completed"
    },
    "tags": []
   },
   "outputs": [
    {
     "data": {
      "image/png": "[encoded data removed]",
      "text/plain": [
       "<Figure size 640x480 with 1 Axes>"
      ]
     },
     "metadata": {},
     "output_type": "display_data"
    }
   ],
   "source": [
    "plt.plot(c, marker=\"D\", label=\"Sample Data\", linestyle='-', color='b')\n",
    "\n",
    "# Add title and labels\n",
    "plt.title(\"Line Plot of Sample Data with Diamond Markers\")\n",
    "plt.xlabel(\"Index\")\n",
    "plt.ylabel(\"Value\")\n",
    "\n",
    "# Add a grid\n",
    "plt.grid(True)\n",
    "\n",
    "# Add a legend\n",
    "plt.legend()\n",
    "\n",
    "# Show the plot\n",
    "plt.show()"
   ]
  },
  {
   "cell_type": "markdown",
   "id": "14ba6b7a",
   "metadata": {},
   "source": [
    "# **2.a Numerical Data > Interval Freq Table > Histogram ( for large no freq index)**"
   ]
  },
  {
   "cell_type": "code",
   "execution_count": 11,
   "id": "69940e10",
   "metadata": {
    "execution": {
     "iopub.execute_input": "2025-04-26T12:07:33.931790Z",
     "iopub.status.busy": "2025-04-26T12:07:33.931250Z",
     "iopub.status.idle": "2025-04-26T12:07:33.935895Z",
     "shell.execute_reply": "2025-04-26T12:07:33.934974Z"
    },
    "papermill": {
     "duration": 0.015845,
     "end_time": "2025-04-26T12:07:33.937422",
     "exception": false,
     "start_time": "2025-04-26T12:07:33.921577",
     "status": "completed"
    },
    "tags": []
   },
   "outputs": [],
   "source": [
    "d = data[\"Age\"].values"
   ]
  },
  {
   "cell_type": "code",
   "execution_count": 12,
   "id": "2799ea1f",
   "metadata": {
    "execution": {
     "iopub.execute_input": "2025-04-26T12:07:33.962923Z",
     "iopub.status.busy": "2025-04-26T12:07:33.962380Z",
     "iopub.status.idle": "2025-04-26T12:07:34.170848Z",
     "shell.execute_reply": "2025-04-26T12:07:34.169941Z"
    },
    "papermill": {
     "duration": 0.222883,
     "end_time": "2025-04-26T12:07:34.172278",
     "exception": false,
     "start_time": "2025-04-26T12:07:33.949395",
     "status": "completed"
    },
    "tags": []
   },
   "outputs": [
    {
     "data": {
      "image/png": "[encoded data removed]",
      "text/plain": [
       "<Figure size 640x480 with 1 Axes>"
      ]
     },
     "metadata": {},
     "output_type": "display_data"
    }
   ],
   "source": [
    "plt.hist(d, color='skyblue', edgecolor='black', alpha=0.7)\n",
    "\n",
    "# Add title and labels\n",
    "plt.title(\"Histogram of Sample Data\")\n",
    "plt.xlabel(\"Value\")\n",
    "plt.ylabel(\"Frequency\")\n",
    "\n",
    "# Add grid\n",
    "plt.grid(axis='y', linestyle='--', alpha=0.7)\n",
    "\n",
    "# Show the plot\n",
    "plt.show()"
   ]
  },
  {
   "cell_type": "markdown",
   "id": "c58fdfd6",
   "metadata": {},
   "source": [
    "# **2.b Numerical Data > Univarient > Boxplots**"
   ]
  },
  {
   "cell_type": "code",
   "execution_count": 13,
   "id": "60e8bc3c",
   "metadata": {
    "execution": {
     "iopub.execute_input": "2025-04-26T12:07:34.188350Z",
     "iopub.status.busy": "2025-04-26T12:07:34.187615Z",
     "iopub.status.idle": "2025-04-26T12:07:34.205286Z",
     "shell.execute_reply": "2025-04-26T12:07:34.204343Z"
    },
    "papermill": {
     "duration": 0.027026,
     "end_time": "2025-04-26T12:07:34.206577",
     "exception": false,
     "start_time": "2025-04-26T12:07:34.179551",
     "status": "completed"
    },
    "tags": []
   },
   "outputs": [
    {
     "data": {
      "text/html": [
       "<div>\n",
       "<style scoped>\n",
       "    .dataframe tbody tr th:only-of-type {\n",
       "        vertical-align: middle;\n",
       "    }\n",
       "\n",
       "    .dataframe tbody tr th {\n",
       "        vertical-align: top;\n",
       "    }\n",
       "\n",
       "    .dataframe thead th {\n",
       "        text-align: right;\n",
       "    }\n",
       "</style>\n",
       "<table border=\"1\" class=\"dataframe\">\n",
       "  <thead>\n",
       "    <tr style=\"text-align: right;\">\n",
       "      <th></th>\n",
       "      <th>PassengerId</th>\n",
       "      <th>Survived</th>\n",
       "      <th>Pclass</th>\n",
       "      <th>Name</th>\n",
       "      <th>Sex</th>\n",
       "      <th>Age</th>\n",
       "      <th>SibSp</th>\n",
       "      <th>Parch</th>\n",
       "      <th>Ticket</th>\n",
       "      <th>Fare</th>\n",
       "      <th>Cabin</th>\n",
       "      <th>Embarked</th>\n",
       "    </tr>\n",
       "  </thead>\n",
       "  <tbody>\n",
       "    <tr>\n",
       "      <th>0</th>\n",
       "      <td>1</td>\n",
       "      <td>0</td>\n",
       "      <td>3</td>\n",
       "      <td>Braund, Mr. Owen Harris</td>\n",
       "      <td>male</td>\n",
       "      <td>22.0</td>\n",
       "      <td>1</td>\n",
       "      <td>0</td>\n",
       "      <td>A/5 21171</td>\n",
       "      <td>7.2500</td>\n",
       "      <td>NaN</td>\n",
       "      <td>S</td>\n",
       "    </tr>\n",
       "    <tr>\n",
       "      <th>1</th>\n",
       "      <td>2</td>\n",
       "      <td>1</td>\n",
       "      <td>1</td>\n",
       "      <td>Cumings, Mrs. John Bradley (Florence Briggs Th...</td>\n",
       "      <td>female</td>\n",
       "      <td>38.0</td>\n",
       "      <td>1</td>\n",
       "      <td>0</td>\n",
       "      <td>PC 17599</td>\n",
       "      <td>71.2833</td>\n",
       "      <td>C85</td>\n",
       "      <td>C</td>\n",
       "    </tr>\n",
       "    <tr>\n",
       "      <th>2</th>\n",
       "      <td>3</td>\n",
       "      <td>1</td>\n",
       "      <td>3</td>\n",
       "      <td>Heikkinen, Miss. Laina</td>\n",
       "      <td>female</td>\n",
       "      <td>26.0</td>\n",
       "      <td>0</td>\n",
       "      <td>0</td>\n",
       "      <td>STON/O2. 3101282</td>\n",
       "      <td>7.9250</td>\n",
       "      <td>NaN</td>\n",
       "      <td>S</td>\n",
       "    </tr>\n",
       "    <tr>\n",
       "      <th>3</th>\n",
       "      <td>4</td>\n",
       "      <td>1</td>\n",
       "      <td>1</td>\n",
       "      <td>Futrelle, Mrs. Jacques Heath (Lily May Peel)</td>\n",
       "      <td>female</td>\n",
       "      <td>35.0</td>\n",
       "      <td>1</td>\n",
       "      <td>0</td>\n",
       "      <td>113803</td>\n",
       "      <td>53.1000</td>\n",
       "      <td>C123</td>\n",
       "      <td>S</td>\n",
       "    </tr>\n",
       "    <tr>\n",
       "      <th>4</th>\n",
       "      <td>5</td>\n",
       "      <td>0</td>\n",
       "      <td>3</td>\n",
       "      <td>Allen, Mr. William Henry</td>\n",
       "      <td>male</td>\n",
       "      <td>35.0</td>\n",
       "      <td>0</td>\n",
       "      <td>0</td>\n",
       "      <td>373450</td>\n",
       "      <td>8.0500</td>\n",
       "      <td>NaN</td>\n",
       "      <td>S</td>\n",
       "    </tr>\n",
       "    <tr>\n",
       "      <th>...</th>\n",
       "      <td>...</td>\n",
       "      <td>...</td>\n",
       "      <td>...</td>\n",
       "      <td>...</td>\n",
       "      <td>...</td>\n",
       "      <td>...</td>\n",
       "      <td>...</td>\n",
       "      <td>...</td>\n",
       "      <td>...</td>\n",
       "      <td>...</td>\n",
       "      <td>...</td>\n",
       "      <td>...</td>\n",
       "    </tr>\n",
       "    <tr>\n",
       "      <th>886</th>\n",
       "      <td>887</td>\n",
       "      <td>0</td>\n",
       "      <td>2</td>\n",
       "      <td>Montvila, Rev. Juozas</td>\n",
       "      <td>male</td>\n",
       "      <td>27.0</td>\n",
       "      <td>0</td>\n",
       "      <td>0</td>\n",
       "      <td>211536</td>\n",
       "      <td>13.0000</td>\n",
       "      <td>NaN</td>\n",
       "      <td>S</td>\n",
       "    </tr>\n",
       "    <tr>\n",
       "      <th>887</th>\n",
       "      <td>888</td>\n",
       "      <td>1</td>\n",
       "      <td>1</td>\n",
       "      <td>Graham, Miss. Margaret Edith</td>\n",
       "      <td>female</td>\n",
       "      <td>19.0</td>\n",
       "      <td>0</td>\n",
       "      <td>0</td>\n",
       "      <td>112053</td>\n",
       "      <td>30.0000</td>\n",
       "      <td>B42</td>\n",
       "      <td>S</td>\n",
       "    </tr>\n",
       "    <tr>\n",
       "      <th>888</th>\n",
       "      <td>889</td>\n",
       "      <td>0</td>\n",
       "      <td>3</td>\n",
       "      <td>Johnston, Miss. Catherine Helen \"Carrie\"</td>\n",
       "      <td>female</td>\n",
       "      <td>NaN</td>\n",
       "      <td>1</td>\n",
       "      <td>2</td>\n",
       "      <td>W./C. 6607</td>\n",
       "      <td>23.4500</td>\n",
       "      <td>NaN</td>\n",
       "      <td>S</td>\n",
       "    </tr>\n",
       "    <tr>\n",
       "      <th>889</th>\n",
       "      <td>890</td>\n",
       "      <td>1</td>\n",
       "      <td>1</td>\n",
       "      <td>Behr, Mr. Karl Howell</td>\n",
       "      <td>male</td>\n",
       "      <td>26.0</td>\n",
       "      <td>0</td>\n",
       "      <td>0</td>\n",
       "      <td>111369</td>\n",
       "      <td>30.0000</td>\n",
       "      <td>C148</td>\n",
       "      <td>C</td>\n",
       "    </tr>\n",
       "    <tr>\n",
       "      <th>890</th>\n",
       "      <td>891</td>\n",
       "      <td>0</td>\n",
       "      <td>3</td>\n",
       "      <td>Dooley, Mr. Patrick</td>\n",
       "      <td>male</td>\n",
       "      <td>32.0</td>\n",
       "      <td>0</td>\n",
       "      <td>0</td>\n",
       "      <td>370376</td>\n",
       "      <td>7.7500</td>\n",
       "      <td>NaN</td>\n",
       "      <td>Q</td>\n",
       "    </tr>\n",
       "  </tbody>\n",
       "</table>\n",
       "<p>891 rows × 12 columns</p>\n",
       "</div>"
      ],
      "text/plain": [
       "     PassengerId  Survived  Pclass  \\\n",
       "0              1         0       3   \n",
       "1              2         1       1   \n",
       "2              3         1       3   \n",
       "3              4         1       1   \n",
       "4              5         0       3   \n",
       "..           ...       ...     ...   \n",
       "886          887         0       2   \n",
       "887          888         1       1   \n",
       "888          889         0       3   \n",
       "889          890         1       1   \n",
       "890          891         0       3   \n",
       "\n",
       "                                                  Name     Sex   Age  SibSp  \\\n",
       "0                              Braund, Mr. Owen Harris    male  22.0      1   \n",
       "1    Cumings, Mrs. John Bradley (Florence Briggs Th...  female  38.0      1   \n",
       "2                               Heikkinen, Miss. Laina  female  26.0      0   \n",
       "3         Futrelle, Mrs. Jacques Heath (Lily May Peel)  female  35.0      1   \n",
       "4                             Allen, Mr. William Henry    male  35.0      0   \n",
       "..                                                 ...     ...   ...    ...   \n",
       "886                              Montvila, Rev. Juozas    male  27.0      0   \n",
       "887                       Graham, Miss. Margaret Edith  female  19.0      0   \n",
       "888           Johnston, Miss. Catherine Helen \"Carrie\"  female   NaN      1   \n",
       "889                              Behr, Mr. Karl Howell    male  26.0      0   \n",
       "890                                Dooley, Mr. Patrick    male  32.0      0   \n",
       "\n",
       "     Parch            Ticket     Fare Cabin Embarked  \n",
       "0        0         A/5 21171   7.2500   NaN        S  \n",
       "1        0          PC 17599  71.2833   C85        C  \n",
       "2        0  STON/O2. 3101282   7.9250   NaN        S  \n",
       "3        0            113803  53.1000  C123        S  \n",
       "4        0            373450   8.0500   NaN        S  \n",
       "..     ...               ...      ...   ...      ...  \n",
       "886      0            211536  13.0000   NaN        S  \n",
       "887      0            112053  30.0000   B42        S  \n",
       "888      2        W./C. 6607  23.4500   NaN        S  \n",
       "889      0            111369  30.0000  C148        C  \n",
       "890      0            370376   7.7500   NaN        Q  \n",
       "\n",
       "[891 rows x 12 columns]"
      ]
     },
     "execution_count": 13,
     "metadata": {},
     "output_type": "execute_result"
    }
   ],
   "source": [
    "boxplot_data = data\n",
    "\n",
    "boxplot_data"
   ]
  },
  {
   "cell_type": "code",
   "execution_count": 14,
   "id": "ac6d5ea5",
   "metadata": {
    "execution": {
     "iopub.execute_input": "2025-04-26T12:07:34.222958Z",
     "iopub.status.busy": "2025-04-26T12:07:34.222677Z",
     "iopub.status.idle": "2025-04-26T12:07:34.342076Z",
     "shell.execute_reply": "2025-04-26T12:07:34.341232Z"
    },
    "papermill": {
     "duration": 0.129337,
     "end_time": "2025-04-26T12:07:34.343533",
     "exception": false,
     "start_time": "2025-04-26T12:07:34.214196",
     "status": "completed"
    },
    "tags": []
   },
   "outputs": [
    {
     "data": {
      "image/png": "[encoded data removed]",
      "text/plain": [
       "<Figure size 640x480 with 1 Axes>"
      ]
     },
     "metadata": {},
     "output_type": "display_data"
    }
   ],
   "source": [
    "sns.boxplot(x='Age', data=boxplot_data,  color='skyblue', width=0.5, fliersize=5)\n",
    "\n",
    "\n",
    "# Add title and axis labels\n",
    "plt.title('Age Distribution', fontsize=16)\n",
    "plt.xlabel('Age', fontsize=14)\n",
    "\n",
    "# Add grid for better readability\n",
    "plt.grid(axis='y', linestyle='--', alpha=0.7)\n",
    "\n",
    "# Customize ticks\n",
    "plt.xticks(fontsize=12)\n",
    "plt.yticks(fontsize=12)\n",
    "\n",
    "# Show the plot\n",
    "plt.show()"
   ]
  },
  {
   "cell_type": "code",
   "execution_count": 15,
   "id": "505ca92e",
   "metadata": {
    "execution": {
     "iopub.execute_input": "2025-04-26T12:07:34.361010Z",
     "iopub.status.busy": "2025-04-26T12:07:34.360233Z",
     "iopub.status.idle": "2025-04-26T12:07:34.368973Z",
     "shell.execute_reply": "2025-04-26T12:07:34.368322Z"
    },
    "papermill": {
     "duration": 0.018693,
     "end_time": "2025-04-26T12:07:34.370172",
     "exception": false,
     "start_time": "2025-04-26T12:07:34.351479",
     "status": "completed"
    },
    "tags": []
   },
   "outputs": [],
   "source": [
    "clean_age = data.dropna(subset=[\"Age\"])"
   ]
  },
  {
   "cell_type": "code",
   "execution_count": 16,
   "id": "545f53a7",
   "metadata": {
    "execution": {
     "iopub.execute_input": "2025-04-26T12:07:34.387837Z",
     "iopub.status.busy": "2025-04-26T12:07:34.386963Z",
     "iopub.status.idle": "2025-04-26T12:07:34.392713Z",
     "shell.execute_reply": "2025-04-26T12:07:34.392059Z"
    },
    "papermill": {
     "duration": 0.015864,
     "end_time": "2025-04-26T12:07:34.393876",
     "exception": false,
     "start_time": "2025-04-26T12:07:34.378012",
     "status": "completed"
    },
    "tags": []
   },
   "outputs": [
    {
     "data": {
      "text/plain": [
       "np.float64(28.0)"
      ]
     },
     "execution_count": 16,
     "metadata": {},
     "output_type": "execute_result"
    }
   ],
   "source": [
    "# clean_age['Age']\n",
    "\n",
    "np.median(clean_age['Age'].values)"
   ]
  },
  {
   "cell_type": "markdown",
   "id": "10e61356",
   "metadata": {},
   "source": [
    "# **2.c Numerical Data >  Univarient > KDE Plot**"
   ]
  },
  {
   "cell_type": "code",
   "execution_count": 17,
   "id": "813bcae9",
   "metadata": {
    "execution": {
     "iopub.execute_input": "2025-04-26T12:07:34.411552Z",
     "iopub.status.busy": "2025-04-26T12:07:34.410697Z",
     "iopub.status.idle": "2025-04-26T12:07:34.646811Z",
     "shell.execute_reply": "2025-04-26T12:07:34.645986Z"
    },
    "papermill": {
     "duration": 0.246308,
     "end_time": "2025-04-26T12:07:34.648150",
     "exception": false,
     "start_time": "2025-04-26T12:07:34.401842",
     "status": "completed"
    },
    "tags": []
   },
   "outputs": [
    {
     "data": {
      "text/plain": [
       "<Axes: xlabel='Age', ylabel='Density'>"
      ]
     },
     "execution_count": 17,
     "metadata": {},
     "output_type": "execute_result"
    },
    {
     "data": {
      "image/png": "[encoded data removed]",
      "text/plain": [
       "<Figure size 640x480 with 1 Axes>"
      ]
     },
     "metadata": {},
     "output_type": "display_data"
    }
   ],
   "source": [
    "# KDE Plot provides percentage of value across various distributions\n",
    "sns.kdeplot(clean_age['Age'])"
   ]
  },
  {
   "cell_type": "markdown",
   "id": "bd7eb5e9",
   "metadata": {},
   "source": [
    "# **MULTI VARIENT**"
   ]
  },
  {
   "cell_type": "markdown",
   "id": "d6e7360c",
   "metadata": {},
   "source": [
    "# **1. Categorical vs Numerical**"
   ]
  },
  {
   "cell_type": "markdown",
   "id": "043841d2",
   "metadata": {},
   "source": [
    "# **a. Box Plot**"
   ]
  },
  {
   "cell_type": "code",
   "execution_count": 18,
   "id": "ce7966c1",
   "metadata": {
    "execution": {
     "iopub.execute_input": "2025-04-26T12:07:34.690164Z",
     "iopub.status.busy": "2025-04-26T12:07:34.689421Z",
     "iopub.status.idle": "2025-04-26T12:07:34.845643Z",
     "shell.execute_reply": "2025-04-26T12:07:34.844734Z"
    },
    "papermill": {
     "duration": 0.166916,
     "end_time": "2025-04-26T12:07:34.846934",
     "exception": false,
     "start_time": "2025-04-26T12:07:34.680018",
     "status": "completed"
    },
    "tags": []
   },
   "outputs": [
    {
     "data": {
      "text/plain": [
       "<Axes: xlabel='Pclass', ylabel='Age'>"
      ]
     },
     "execution_count": 18,
     "metadata": {},
     "output_type": "execute_result"
    },
    {
     "data": {
      "image/png": "[encoded data removed]",
      "text/plain": [
       "<Figure size 640x480 with 1 Axes>"
      ]
     },
     "metadata": {},
     "output_type": "display_data"
    }
   ],
   "source": [
    "sns.boxplot(x=\"Pclass\", y=\"Age\", data=data)"
   ]
  },
  {
   "cell_type": "markdown",
   "id": "405fa734",
   "metadata": {},
   "source": [
    "# **b Bar plot**"
   ]
  },
  {
   "cell_type": "code",
   "execution_count": 19,
   "id": "fddfe426",
   "metadata": {
    "execution": {
     "iopub.execute_input": "2025-04-26T12:07:34.866590Z",
     "iopub.status.busy": "2025-04-26T12:07:34.866056Z",
     "iopub.status.idle": "2025-04-26T12:07:35.134219Z",
     "shell.execute_reply": "2025-04-26T12:07:35.133480Z"
    },
    "papermill": {
     "duration": 0.279532,
     "end_time": "2025-04-26T12:07:35.135769",
     "exception": false,
     "start_time": "2025-04-26T12:07:34.856237",
     "status": "completed"
    },
    "tags": []
   },
   "outputs": [
    {
     "data": {
      "text/plain": [
       "<Axes: xlabel='Pclass', ylabel='Age'>"
      ]
     },
     "execution_count": 19,
     "metadata": {},
     "output_type": "execute_result"
    },
    {
     "data": {
      "image/png": "[encoded data removed]",
      "text/plain": [
       "<Figure size 640x480 with 1 Axes>"
      ]
     },
     "metadata": {},
     "output_type": "display_data"
    }
   ],
   "source": [
    "sns.barplot(x=\"Pclass\", y=\"Age\", data=data)"
   ]
  },
  {
   "cell_type": "code",
   "execution_count": 20,
   "id": "d836e435",
   "metadata": {
    "execution": {
     "iopub.execute_input": "2025-04-26T12:07:35.156180Z",
     "iopub.status.busy": "2025-04-26T12:07:35.155662Z",
     "iopub.status.idle": "2025-04-26T12:07:35.160758Z",
     "shell.execute_reply": "2025-04-26T12:07:35.160164Z"
    },
    "papermill": {
     "duration": 0.017012,
     "end_time": "2025-04-26T12:07:35.162043",
     "exception": false,
     "start_time": "2025-04-26T12:07:35.145031",
     "status": "completed"
    },
    "tags": []
   },
   "outputs": [
    {
     "data": {
      "text/plain": [
       "Index(['PassengerId', 'Survived', 'Pclass', 'Name', 'Sex', 'Age', 'SibSp',\n",
       "       'Parch', 'Ticket', 'Fare', 'Cabin', 'Embarked'],\n",
       "      dtype='object')"
      ]
     },
     "execution_count": 20,
     "metadata": {},
     "output_type": "execute_result"
    }
   ],
   "source": [
    "data.columns"
   ]
  },
  {
   "cell_type": "markdown",
   "id": "3d242ace",
   "metadata": {},
   "source": [
    "# **2. Numerical vs Numerical**\n",
    "\n",
    "# **a Scatter Plot**"
   ]
  },
  {
   "cell_type": "code",
   "execution_count": 21,
   "id": "076c8837",
   "metadata": {
    "execution": {
     "iopub.execute_input": "2025-04-26T12:07:35.181419Z",
     "iopub.status.busy": "2025-04-26T12:07:35.181148Z",
     "iopub.status.idle": "2025-04-26T12:07:35.185717Z",
     "shell.execute_reply": "2025-04-26T12:07:35.184908Z"
    },
    "papermill": {
     "duration": 0.015753,
     "end_time": "2025-04-26T12:07:35.186991",
     "exception": false,
     "start_time": "2025-04-26T12:07:35.171238",
     "status": "completed"
    },
    "tags": []
   },
   "outputs": [],
   "source": [
    "age = data[\"Age\"].values\n",
    "\n",
    "fare = data[\"Fare\"].values\n",
    "\n",
    "pclass = data[\"Pclass\"].values\n",
    "\n",
    "survived = data[\"Survived\"].values\n"
   ]
  },
  {
   "cell_type": "code",
   "execution_count": 22,
   "id": "859619c4",
   "metadata": {
    "execution": {
     "iopub.execute_input": "2025-04-26T12:07:35.206130Z",
     "iopub.status.busy": "2025-04-26T12:07:35.205882Z",
     "iopub.status.idle": "2025-04-26T12:07:35.413879Z",
     "shell.execute_reply": "2025-04-26T12:07:35.413035Z"
    },
    "papermill": {
     "duration": 0.220467,
     "end_time": "2025-04-26T12:07:35.416545",
     "exception": false,
     "start_time": "2025-04-26T12:07:35.196078",
     "status": "completed"
    },
    "tags": []
   },
   "outputs": [
    {
     "data": {
      "image/png": "[encoded data removed]",
      "text/plain": [
       "<Figure size 800x600 with 1 Axes>"
      ]
     },
     "metadata": {},
     "output_type": "display_data"
    }
   ],
   "source": [
    "plt.figure(figsize=(8, 6))\n",
    "plt.scatter(age, fare, c='royalblue', edgecolor='k', alpha=0.7, s=60)\n",
    "\n",
    "# Add title and labels\n",
    "plt.title('Age vs Fare Scatter Plot', fontsize=16)\n",
    "plt.xlabel('age', fontsize=14)\n",
    "plt.ylabel('fare', fontsize=14)\n",
    "\n",
    "# Add a grid\n",
    "plt.grid(True, linestyle='--', alpha=0.6)\n",
    "\n",
    "# Customize ticks\n",
    "plt.xticks(fontsize=12)\n",
    "plt.yticks(fontsize=12)\n",
    "\n",
    "# Show the plot\n",
    "plt.show()"
   ]
  },
  {
   "cell_type": "markdown",
   "id": "f92bbb40",
   "metadata": {
    "execution": {
     "iopub.execute_input": "2025-04-26T12:07:35.441092Z",
     "iopub.status.busy": "2025-04-26T12:07:35.440773Z",
     "iopub.status.idle": "2025-04-26T12:07:35.444325Z",
     "shell.execute_reply": "2025-04-26T12:07:35.443659Z"
    },
    "papermill": {
     "duration": 0.017017,
     "end_time": "2025-04-26T12:07:35.445639",
     "exception": false,
     "start_time": "2025-04-26T12:07:35.428622",
     "status": "completed"
    },
    "tags": []
   },
   "source": [
    "# **3 Categorical vs Categorical**\n",
    "\n",
    "# **a Cross Table - Bar Chart**"
   ]
  },
  {
   "cell_type": "code",
   "execution_count": 23,
   "id": "aa28f30a",
   "metadata": {
    "execution": {
     "iopub.execute_input": "2025-04-26T12:07:35.470232Z",
     "iopub.status.busy": "2025-04-26T12:07:35.469649Z",
     "iopub.status.idle": "2025-04-26T12:07:35.488475Z",
     "shell.execute_reply": "2025-04-26T12:07:35.487490Z"
    },
    "papermill": {
     "duration": 0.032843,
     "end_time": "2025-04-26T12:07:35.489885",
     "exception": false,
     "start_time": "2025-04-26T12:07:35.457042",
     "status": "completed"
    },
    "tags": []
   },
   "outputs": [
    {
     "data": {
      "text/html": [
       "<div>\n",
       "<style scoped>\n",
       "    .dataframe tbody tr th:only-of-type {\n",
       "        vertical-align: middle;\n",
       "    }\n",
       "\n",
       "    .dataframe tbody tr th {\n",
       "        vertical-align: top;\n",
       "    }\n",
       "\n",
       "    .dataframe thead th {\n",
       "        text-align: right;\n",
       "    }\n",
       "</style>\n",
       "<table border=\"1\" class=\"dataframe\">\n",
       "  <thead>\n",
       "    <tr style=\"text-align: right;\">\n",
       "      <th></th>\n",
       "      <th>PassengerId</th>\n",
       "      <th>Survived</th>\n",
       "      <th>Pclass</th>\n",
       "      <th>Name</th>\n",
       "      <th>Sex</th>\n",
       "      <th>Age</th>\n",
       "      <th>SibSp</th>\n",
       "      <th>Parch</th>\n",
       "      <th>Ticket</th>\n",
       "      <th>Fare</th>\n",
       "      <th>Cabin</th>\n",
       "      <th>Embarked</th>\n",
       "      <th>has_survived</th>\n",
       "    </tr>\n",
       "  </thead>\n",
       "  <tbody>\n",
       "    <tr>\n",
       "      <th>0</th>\n",
       "      <td>1</td>\n",
       "      <td>0</td>\n",
       "      <td>3</td>\n",
       "      <td>Braund, Mr. Owen Harris</td>\n",
       "      <td>male</td>\n",
       "      <td>22.0</td>\n",
       "      <td>1</td>\n",
       "      <td>0</td>\n",
       "      <td>A/5 21171</td>\n",
       "      <td>7.2500</td>\n",
       "      <td>NaN</td>\n",
       "      <td>S</td>\n",
       "      <td>False</td>\n",
       "    </tr>\n",
       "    <tr>\n",
       "      <th>1</th>\n",
       "      <td>2</td>\n",
       "      <td>1</td>\n",
       "      <td>1</td>\n",
       "      <td>Cumings, Mrs. John Bradley (Florence Briggs Th...</td>\n",
       "      <td>female</td>\n",
       "      <td>38.0</td>\n",
       "      <td>1</td>\n",
       "      <td>0</td>\n",
       "      <td>PC 17599</td>\n",
       "      <td>71.2833</td>\n",
       "      <td>C85</td>\n",
       "      <td>C</td>\n",
       "      <td>True</td>\n",
       "    </tr>\n",
       "    <tr>\n",
       "      <th>2</th>\n",
       "      <td>3</td>\n",
       "      <td>1</td>\n",
       "      <td>3</td>\n",
       "      <td>Heikkinen, Miss. Laina</td>\n",
       "      <td>female</td>\n",
       "      <td>26.0</td>\n",
       "      <td>0</td>\n",
       "      <td>0</td>\n",
       "      <td>STON/O2. 3101282</td>\n",
       "      <td>7.9250</td>\n",
       "      <td>NaN</td>\n",
       "      <td>S</td>\n",
       "      <td>True</td>\n",
       "    </tr>\n",
       "    <tr>\n",
       "      <th>3</th>\n",
       "      <td>4</td>\n",
       "      <td>1</td>\n",
       "      <td>1</td>\n",
       "      <td>Futrelle, Mrs. Jacques Heath (Lily May Peel)</td>\n",
       "      <td>female</td>\n",
       "      <td>35.0</td>\n",
       "      <td>1</td>\n",
       "      <td>0</td>\n",
       "      <td>113803</td>\n",
       "      <td>53.1000</td>\n",
       "      <td>C123</td>\n",
       "      <td>S</td>\n",
       "      <td>True</td>\n",
       "    </tr>\n",
       "    <tr>\n",
       "      <th>4</th>\n",
       "      <td>5</td>\n",
       "      <td>0</td>\n",
       "      <td>3</td>\n",
       "      <td>Allen, Mr. William Henry</td>\n",
       "      <td>male</td>\n",
       "      <td>35.0</td>\n",
       "      <td>0</td>\n",
       "      <td>0</td>\n",
       "      <td>373450</td>\n",
       "      <td>8.0500</td>\n",
       "      <td>NaN</td>\n",
       "      <td>S</td>\n",
       "      <td>False</td>\n",
       "    </tr>\n",
       "    <tr>\n",
       "      <th>...</th>\n",
       "      <td>...</td>\n",
       "      <td>...</td>\n",
       "      <td>...</td>\n",
       "      <td>...</td>\n",
       "      <td>...</td>\n",
       "      <td>...</td>\n",
       "      <td>...</td>\n",
       "      <td>...</td>\n",
       "      <td>...</td>\n",
       "      <td>...</td>\n",
       "      <td>...</td>\n",
       "      <td>...</td>\n",
       "      <td>...</td>\n",
       "    </tr>\n",
       "    <tr>\n",
       "      <th>886</th>\n",
       "      <td>887</td>\n",
       "      <td>0</td>\n",
       "      <td>2</td>\n",
       "      <td>Montvila, Rev. Juozas</td>\n",
       "      <td>male</td>\n",
       "      <td>27.0</td>\n",
       "      <td>0</td>\n",
       "      <td>0</td>\n",
       "      <td>211536</td>\n",
       "      <td>13.0000</td>\n",
       "      <td>NaN</td>\n",
       "      <td>S</td>\n",
       "      <td>False</td>\n",
       "    </tr>\n",
       "    <tr>\n",
       "      <th>887</th>\n",
       "      <td>888</td>\n",
       "      <td>1</td>\n",
       "      <td>1</td>\n",
       "      <td>Graham, Miss. Margaret Edith</td>\n",
       "      <td>female</td>\n",
       "      <td>19.0</td>\n",
       "      <td>0</td>\n",
       "      <td>0</td>\n",
       "      <td>112053</td>\n",
       "      <td>30.0000</td>\n",
       "      <td>B42</td>\n",
       "      <td>S</td>\n",
       "      <td>True</td>\n",
       "    </tr>\n",
       "    <tr>\n",
       "      <th>888</th>\n",
       "      <td>889</td>\n",
       "      <td>0</td>\n",
       "      <td>3</td>\n",
       "      <td>Johnston, Miss. Catherine Helen \"Carrie\"</td>\n",
       "      <td>female</td>\n",
       "      <td>NaN</td>\n",
       "      <td>1</td>\n",
       "      <td>2</td>\n",
       "      <td>W./C. 6607</td>\n",
       "      <td>23.4500</td>\n",
       "      <td>NaN</td>\n",
       "      <td>S</td>\n",
       "      <td>False</td>\n",
       "    </tr>\n",
       "    <tr>\n",
       "      <th>889</th>\n",
       "      <td>890</td>\n",
       "      <td>1</td>\n",
       "      <td>1</td>\n",
       "      <td>Behr, Mr. Karl Howell</td>\n",
       "      <td>male</td>\n",
       "      <td>26.0</td>\n",
       "      <td>0</td>\n",
       "      <td>0</td>\n",
       "      <td>111369</td>\n",
       "      <td>30.0000</td>\n",
       "      <td>C148</td>\n",
       "      <td>C</td>\n",
       "      <td>True</td>\n",
       "    </tr>\n",
       "    <tr>\n",
       "      <th>890</th>\n",
       "      <td>891</td>\n",
       "      <td>0</td>\n",
       "      <td>3</td>\n",
       "      <td>Dooley, Mr. Patrick</td>\n",
       "      <td>male</td>\n",
       "      <td>32.0</td>\n",
       "      <td>0</td>\n",
       "      <td>0</td>\n",
       "      <td>370376</td>\n",
       "      <td>7.7500</td>\n",
       "      <td>NaN</td>\n",
       "      <td>Q</td>\n",
       "      <td>False</td>\n",
       "    </tr>\n",
       "  </tbody>\n",
       "</table>\n",
       "<p>891 rows × 13 columns</p>\n",
       "</div>"
      ],
      "text/plain": [
       "     PassengerId  Survived  Pclass  \\\n",
       "0              1         0       3   \n",
       "1              2         1       1   \n",
       "2              3         1       3   \n",
       "3              4         1       1   \n",
       "4              5         0       3   \n",
       "..           ...       ...     ...   \n",
       "886          887         0       2   \n",
       "887          888         1       1   \n",
       "888          889         0       3   \n",
       "889          890         1       1   \n",
       "890          891         0       3   \n",
       "\n",
       "                                                  Name     Sex   Age  SibSp  \\\n",
       "0                              Braund, Mr. Owen Harris    male  22.0      1   \n",
       "1    Cumings, Mrs. John Bradley (Florence Briggs Th...  female  38.0      1   \n",
       "2                               Heikkinen, Miss. Laina  female  26.0      0   \n",
       "3         Futrelle, Mrs. Jacques Heath (Lily May Peel)  female  35.0      1   \n",
       "4                             Allen, Mr. William Henry    male  35.0      0   \n",
       "..                                                 ...     ...   ...    ...   \n",
       "886                              Montvila, Rev. Juozas    male  27.0      0   \n",
       "887                       Graham, Miss. Margaret Edith  female  19.0      0   \n",
       "888           Johnston, Miss. Catherine Helen \"Carrie\"  female   NaN      1   \n",
       "889                              Behr, Mr. Karl Howell    male  26.0      0   \n",
       "890                                Dooley, Mr. Patrick    male  32.0      0   \n",
       "\n",
       "     Parch            Ticket     Fare Cabin Embarked  has_survived  \n",
       "0        0         A/5 21171   7.2500   NaN        S         False  \n",
       "1        0          PC 17599  71.2833   C85        C          True  \n",
       "2        0  STON/O2. 3101282   7.9250   NaN        S          True  \n",
       "3        0            113803  53.1000  C123        S          True  \n",
       "4        0            373450   8.0500   NaN        S         False  \n",
       "..     ...               ...      ...   ...      ...           ...  \n",
       "886      0            211536  13.0000   NaN        S         False  \n",
       "887      0            112053  30.0000   B42        S          True  \n",
       "888      2        W./C. 6607  23.4500   NaN        S         False  \n",
       "889      0            111369  30.0000  C148        C          True  \n",
       "890      0            370376   7.7500   NaN        Q         False  \n",
       "\n",
       "[891 rows x 13 columns]"
      ]
     },
     "execution_count": 23,
     "metadata": {},
     "output_type": "execute_result"
    }
   ],
   "source": [
    "data[\"has_survived\"] = [True if x == 1 else False for x in data['Survived'] ]\n",
    "data"
   ]
  },
  {
   "cell_type": "code",
   "execution_count": 24,
   "id": "d1d6f49f",
   "metadata": {
    "execution": {
     "iopub.execute_input": "2025-04-26T12:07:35.569667Z",
     "iopub.status.busy": "2025-04-26T12:07:35.569261Z",
     "iopub.status.idle": "2025-04-26T12:07:35.579329Z",
     "shell.execute_reply": "2025-04-26T12:07:35.578658Z"
    },
    "papermill": {
     "duration": 0.078822,
     "end_time": "2025-04-26T12:07:35.580562",
     "exception": false,
     "start_time": "2025-04-26T12:07:35.501740",
     "status": "completed"
    },
    "tags": []
   },
   "outputs": [
    {
     "data": {
      "text/plain": [
       "Pclass  has_survived\n",
       "1       False            80\n",
       "        True            136\n",
       "2       False            97\n",
       "        True             87\n",
       "3       False           372\n",
       "        True            119\n",
       "dtype: int64"
      ]
     },
     "execution_count": 24,
     "metadata": {},
     "output_type": "execute_result"
    }
   ],
   "source": [
    "count = data.groupby(['Pclass', 'has_survived']).size()\n",
    "count"
   ]
  },
  {
   "cell_type": "code",
   "execution_count": 25,
   "id": "ad8d5f4d",
   "metadata": {
    "execution": {
     "iopub.execute_input": "2025-04-26T12:07:35.605981Z",
     "iopub.status.busy": "2025-04-26T12:07:35.605695Z",
     "iopub.status.idle": "2025-04-26T12:07:35.789024Z",
     "shell.execute_reply": "2025-04-26T12:07:35.788184Z"
    },
    "papermill": {
     "duration": 0.197921,
     "end_time": "2025-04-26T12:07:35.790499",
     "exception": false,
     "start_time": "2025-04-26T12:07:35.592578",
     "status": "completed"
    },
    "tags": []
   },
   "outputs": [
    {
     "data": {
      "text/plain": [
       "<Axes: xlabel='Pclass'>"
      ]
     },
     "execution_count": 25,
     "metadata": {},
     "output_type": "execute_result"
    },
    {
     "data": {
      "image/png": "[encoded data removed]",
      "text/plain": [
       "<Figure size 640x480 with 1 Axes>"
      ]
     },
     "metadata": {},
     "output_type": "display_data"
    }
   ],
   "source": [
    "pd.crosstab(data[\"Pclass\"], data[\"has_survived\"]).plot(kind=\"bar\")"
   ]
  },
  {
   "cell_type": "code",
   "execution_count": 26,
   "id": "b0fe1bbd",
   "metadata": {
    "execution": {
     "iopub.execute_input": "2025-04-26T12:07:35.817159Z",
     "iopub.status.busy": "2025-04-26T12:07:35.816845Z",
     "iopub.status.idle": "2025-04-26T12:07:35.831480Z",
     "shell.execute_reply": "2025-04-26T12:07:35.830644Z"
    },
    "papermill": {
     "duration": 0.029747,
     "end_time": "2025-04-26T12:07:35.832859",
     "exception": false,
     "start_time": "2025-04-26T12:07:35.803112",
     "status": "completed"
    },
    "tags": []
   },
   "outputs": [
    {
     "data": {
      "text/html": [
       "<div>\n",
       "<style scoped>\n",
       "    .dataframe tbody tr th:only-of-type {\n",
       "        vertical-align: middle;\n",
       "    }\n",
       "\n",
       "    .dataframe tbody tr th {\n",
       "        vertical-align: top;\n",
       "    }\n",
       "\n",
       "    .dataframe thead th {\n",
       "        text-align: right;\n",
       "    }\n",
       "</style>\n",
       "<table border=\"1\" class=\"dataframe\">\n",
       "  <thead>\n",
       "    <tr style=\"text-align: right;\">\n",
       "      <th>has_survived</th>\n",
       "      <th>False</th>\n",
       "      <th>True</th>\n",
       "    </tr>\n",
       "    <tr>\n",
       "      <th>Pclass</th>\n",
       "      <th></th>\n",
       "      <th></th>\n",
       "    </tr>\n",
       "  </thead>\n",
       "  <tbody>\n",
       "    <tr>\n",
       "      <th>1</th>\n",
       "      <td>80</td>\n",
       "      <td>136</td>\n",
       "    </tr>\n",
       "    <tr>\n",
       "      <th>2</th>\n",
       "      <td>97</td>\n",
       "      <td>87</td>\n",
       "    </tr>\n",
       "    <tr>\n",
       "      <th>3</th>\n",
       "      <td>372</td>\n",
       "      <td>119</td>\n",
       "    </tr>\n",
       "  </tbody>\n",
       "</table>\n",
       "</div>"
      ],
      "text/plain": [
       "has_survived  False  True \n",
       "Pclass                    \n",
       "1                80    136\n",
       "2                97     87\n",
       "3               372    119"
      ]
     },
     "execution_count": 26,
     "metadata": {},
     "output_type": "execute_result"
    }
   ],
   "source": [
    "cross_tab = pd.crosstab(data[\"Pclass\"], data[\"has_survived\"])\n",
    "cross_tab"
   ]
  },
  {
   "cell_type": "code",
   "execution_count": 27,
   "id": "40b80da8",
   "metadata": {
    "execution": {
     "iopub.execute_input": "2025-04-26T12:07:35.858347Z",
     "iopub.status.busy": "2025-04-26T12:07:35.858073Z",
     "iopub.status.idle": "2025-04-26T12:07:35.869178Z",
     "shell.execute_reply": "2025-04-26T12:07:35.868373Z"
    },
    "papermill": {
     "duration": 0.025108,
     "end_time": "2025-04-26T12:07:35.870437",
     "exception": false,
     "start_time": "2025-04-26T12:07:35.845329",
     "status": "completed"
    },
    "tags": []
   },
   "outputs": [
    {
     "data": {
      "text/plain": [
       "Pclass  Pclass  has_survived\n",
       "1       1       False           37.04\n",
       "                True            62.96\n",
       "2       2       False           52.72\n",
       "                True            47.28\n",
       "3       3       False           75.76\n",
       "                True            24.24\n",
       "dtype: float64"
      ]
     },
     "execution_count": 27,
     "metadata": {},
     "output_type": "execute_result"
    }
   ],
   "source": [
    "percent = count.groupby(level=0).apply(lambda x : round((x/x.sum())*100, 2))\n",
    "percent"
   ]
  },
  {
   "cell_type": "code",
   "execution_count": 28,
   "id": "b73a4bc3",
   "metadata": {
    "execution": {
     "iopub.execute_input": "2025-04-26T12:07:35.896009Z",
     "iopub.status.busy": "2025-04-26T12:07:35.895746Z",
     "iopub.status.idle": "2025-04-26T12:07:36.057243Z",
     "shell.execute_reply": "2025-04-26T12:07:36.056382Z"
    },
    "papermill": {
     "duration": 0.175679,
     "end_time": "2025-04-26T12:07:36.058448",
     "exception": false,
     "start_time": "2025-04-26T12:07:35.882769",
     "status": "completed"
    },
    "tags": []
   },
   "outputs": [
    {
     "data": {
      "text/plain": [
       "<Axes: xlabel='Pclass,Pclass,has_survived'>"
      ]
     },
     "execution_count": 28,
     "metadata": {},
     "output_type": "execute_result"
    },
    {
     "data": {
      "image/png": "[encoded data removed]",
      "text/plain": [
       "<Figure size 640x480 with 1 Axes>"
      ]
     },
     "metadata": {},
     "output_type": "display_data"
    }
   ],
   "source": [
    "percent.plot(kind=\"bar\")"
   ]
  },
  {
   "cell_type": "markdown",
   "id": "4a24cfac",
   "metadata": {},
   "source": [
    "# **b. HeatMap**"
   ]
  },
  {
   "cell_type": "code",
   "execution_count": 29,
   "id": "6dcca387",
   "metadata": {
    "execution": {
     "iopub.execute_input": "2025-04-26T12:07:36.085753Z",
     "iopub.status.busy": "2025-04-26T12:07:36.085434Z",
     "iopub.status.idle": "2025-04-26T12:07:36.263176Z",
     "shell.execute_reply": "2025-04-26T12:07:36.262290Z"
    },
    "papermill": {
     "duration": 0.193123,
     "end_time": "2025-04-26T12:07:36.264553",
     "exception": false,
     "start_time": "2025-04-26T12:07:36.071430",
     "status": "completed"
    },
    "tags": []
   },
   "outputs": [
    {
     "data": {
      "text/plain": [
       "<Axes: xlabel='has_survived', ylabel='Pclass'>"
      ]
     },
     "execution_count": 29,
     "metadata": {},
     "output_type": "execute_result"
    },
    {
     "data": {
      "image/png": "[encoded data removed]",
      "text/plain": [
       "<Figure size 640x480 with 2 Axes>"
      ]
     },
     "metadata": {},
     "output_type": "display_data"
    }
   ],
   "source": [
    "sns.heatmap(cross_tab)"
   ]
  },
  {
   "cell_type": "markdown",
   "id": "31fa2684",
   "metadata": {},
   "source": [
    "----\n",
    "----"
   ]
  }
 ],
 "metadata": {
  "kaggle": {
   "accelerator": "none",
   "dataSources": [
    {
     "datasetId": 1818188,
     "sourceId": 2965537,
     "sourceType": "datasetVersion"
    }
   ],
   "dockerImageVersionId": 31012,
   "isGpuEnabled": false,
   "isInternetEnabled": true,
   "language": "python",
   "sourceType": "notebook"
  },
  "kernelspec": {
   "display_name": "Python 3",
   "language": "python",
   "name": "python3"
  },
  "language_info": {
   "codemirror_mode": {
    "name": "ipython",
    "version": 3
   },
   "file_extension": ".py",
   "mimetype": "text/x-python",
   "name": "python",
   "nbconvert_exporter": "python",
   "pygments_lexer": "ipython3",
   "version": "3.10.11"
  },
  "papermill": {
   "default_parameters": {},
   "duration": 11.516866,
   "end_time": "2025-04-26T12:07:36.896226",
   "environment_variables": {},
   "exception": null,
   "input_path": "__notebook__.ipynb",
   "output_path": "__notebook__.ipynb",
   "parameters": {},
   "start_time": "2025-04-26T12:07:25.379360",
   "version": "2.6.0"
  }
 },
 "nbformat": 4,
 "nbformat_minor": 5
}
